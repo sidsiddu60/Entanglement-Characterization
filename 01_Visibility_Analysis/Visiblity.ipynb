{
 "cells": [
  {
   "cell_type": "code",
   "execution_count": 1,
   "id": "0b2cbf58",
   "metadata": {},
   "outputs": [],
   "source": [
    "import pandas as pd\n",
    "import numpy as np\n",
    "import matplotlib.pyplot as plt\n",
    "import seaborn as sns"
   ]
  },
  {
   "cell_type": "code",
   "execution_count": 2,
   "id": "35395d14",
   "metadata": {},
   "outputs": [],
   "source": [
    "def process_entanglement_data(file_path, basis):\n",
    "    \n",
    "    # Step 1: Read the data\n",
    "    df = pd.read_csv(file_path, delimiter=r'\\s+', comment='#', \n",
    "                     names=[\"Time (s)\", \"Single 0 (/s)\", \"Single 2 (/s)\", \"Coincidence 02 (/s)\"])\n",
    "    \n",
    "    # Step 2: Replace time column values with the basis and rename the column\n",
    "    df[\"Time (s)\"] = basis\n",
    "    df.rename(columns={\"Time (s)\": f\"Computational_basis_{basis}\"}, inplace=True)\n",
    "    \n",
    "    # Step 3: Calculate accidental coincidence\n",
    "    df[\"Accidental_Coincidence\"] = 2 * df[\"Single 0 (/s)\"] * df[\"Single 2 (/s)\"] * 20 * 10**-9\n",
    "    \n",
    "    # Step 4: Calculate actual coincidence\n",
    "    df[\"Actual Coincidence\"] = (df[\"Coincidence 02 (/s)\"] - df[\"Accidental_Coincidence\"]).round().astype(int)\n",
    "    \n",
    "    # Step 5: Calculate average of actual coincidences\n",
    "    N_basis = df[\"Actual Coincidence\"].mean().round().astype(int)\n",
    "    \n",
    "    print(f\"\\nProcessed DataFrame for basis {basis}:\")\n",
    "    #print(df)\n",
    "    print(f\"Average Actual Coincidence (N[{basis}]): {N_basis}\")\n",
    "    \n",
    "    return N_basis\n"
   ]
  },
  {
   "cell_type": "code",
   "execution_count": 3,
   "id": "2e206222",
   "metadata": {},
   "outputs": [],
   "source": [
    "def calculate_visibility(file_paths):\n",
    "    \n",
    "    # Calculate N values for each basis\n",
    "    N_values = {}\n",
    "    for basis, path in file_paths.items():\n",
    "        N_values[basis] = process_entanglement_data(path, basis)\n",
    "    \n",
    "    # Computational Basis Calculations\n",
    "    Imax_comp = N_values[\"HH\"] + N_values[\"VV\"]\n",
    "    Imin_comp = N_values[\"HV\"] + N_values[\"VH\"]\n",
    "    # Calculate Visibility\n",
    "    visibility_comp = (Imax_comp - Imin_comp) / (Imax_comp + Imin_comp)\n",
    "        \n",
    "    print(f\"\\n--- Computational Basis ---\")\n",
    "    print(f\"Imax = N[HH] + N[VV] = {N_values['HH']} + {N_values['VV']} = {Imax_comp}\")\n",
    "    print(f\"Imin = N[HV] + N[VH] = {N_values['HV']} + {N_values['VH']} = {Imin_comp}\")\n",
    "    print(f\"Visibility = (Imax - Imin) / (Imax + Imin) = ({Imax_comp} - {Imin_comp}) / ({Imax_comp} + {Imin_comp}) = {visibility_comp:.4f}\")\n",
    "    \n",
    "    # Diagonal Basis Calculations\n",
    "    Imax_diag = N_values[\"DD\"] + N_values[\"AA\"]\n",
    "    Imin_diag = N_values[\"DA\"] + N_values[\"AD\"]\n",
    "    # Calculate Visibility\n",
    "    visibility_diag = (Imax_diag - Imin_diag) / (Imax_diag + Imin_diag)\n",
    "    \n",
    "    print(f\"\\n--- Diagonal Basis ---\")\n",
    "    print(f\"Imax = N[DD] + N[AA] = {N_values['DD']} + {N_values['AA']} = {Imax_diag}\")\n",
    "    print(f\"Imin = N[DA] + N[AD] = {N_values['DA']} + {N_values['AD']} = {Imin_diag}\")\n",
    "    print(f\"Visibility = (Imax - Imin) / (Imax + Imin) = ({Imax_diag} - {Imin_diag}) / ({Imax_diag} + {Imin_diag}) = {visibility_diag:.4f}\")\n",
    "    \n",
    "    # Return results in a structured format\n",
    "    results = {\n",
    "        \"Computational Basis\": {\n",
    "            \"Imax\": Imax_comp,\n",
    "            \"Imin\": Imin_comp,\n",
    "            \"Visibility\": visibility_comp,\n",
    "        },\n",
    "        \"Diagonal Basis\": {\n",
    "            \"Imax\": Imax_diag,\n",
    "            \"Imin\": Imin_diag,\n",
    "            \"Visibility\": visibility_diag,\n",
    "        },\n",
    "        \"N_Values\": N_values,\n",
    "    }  \n",
    "    \n",
    "    return results\n"
   ]
  },
  {
   "cell_type": "code",
   "execution_count": 4,
   "id": "7016b010",
   "metadata": {},
   "outputs": [],
   "source": [
    "# Example usage\n",
    "file_paths = {\n",
    "    \"HH\": \"G:/Semester 4/Lab data/Final project data/12.5cm data/New folder (2)/Distribution visbility with correction/quCNT_28.txt\",\n",
    "    \"HV\": \"G:/Semester 4/Lab data/Final project data/12.5cm data/New folder (2)/Distribution visbility with correction/quCNT_29.txt\",\n",
    "    \"VV\": \"G:/Semester 4/Lab data/Final project data/12.5cm data/New folder (2)/Distribution visbility with correction/quCNT_30.txt\",\n",
    "    \"VH\": \"G:/Semester 4/Lab data/Final project data/12.5cm data/New folder (2)/Distribution visbility with correction/quCNT_31.txt\",\n",
    "    \"DD\": \"G:/Semester 4/Lab data/Final project data/12.5cm data/New folder (2)/Distribution visbility with correction/quCNT_32.txt\",\n",
    "    \"DA\": \"G:/Semester 4/Lab data/Final project data/12.5cm data/New folder (2)/Distribution visbility with correction/quCNT_33.txt\",\n",
    "    \"AA\": \"G:/Semester 4/Lab data/Final project data/12.5cm data/New folder (2)/Distribution visbility with correction/quCNT_34.txt\",\n",
    "    \"AD\": \"G:/Semester 4/Lab data/Final project data/12.5cm data/New folder (2)/Distribution visbility with correction/quCNT_35.txt\"\n",
    "}\n"
   ]
  },
  {
   "cell_type": "code",
   "execution_count": 5,
   "id": "11564fb0",
   "metadata": {
    "scrolled": true
   },
   "outputs": [
    {
     "name": "stdout",
     "output_type": "stream",
     "text": [
      "\n",
      "Processed DataFrame for basis HH:\n",
      "Average Actual Coincidence (N[HH]): 73\n",
      "\n",
      "Processed DataFrame for basis HV:\n",
      "Average Actual Coincidence (N[HV]): 22\n",
      "\n",
      "Processed DataFrame for basis VV:\n",
      "Average Actual Coincidence (N[VV]): 219\n",
      "\n",
      "Processed DataFrame for basis VH:\n",
      "Average Actual Coincidence (N[VH]): 10\n",
      "\n",
      "Processed DataFrame for basis DD:\n",
      "Average Actual Coincidence (N[DD]): 141\n",
      "\n",
      "Processed DataFrame for basis DA:\n",
      "Average Actual Coincidence (N[DA]): 17\n",
      "\n",
      "Processed DataFrame for basis AA:\n",
      "Average Actual Coincidence (N[AA]): 159\n",
      "\n",
      "Processed DataFrame for basis AD:\n",
      "Average Actual Coincidence (N[AD]): 18\n",
      "\n",
      "--- Computational Basis ---\n",
      "Imax = N[HH] + N[VV] = 73 + 219 = 292\n",
      "Imin = N[HV] + N[VH] = 22 + 10 = 32\n",
      "Visibility = (Imax - Imin) / (Imax + Imin) = (292 - 32) / (292 + 32) = 0.8025\n",
      "\n",
      "--- Diagonal Basis ---\n",
      "Imax = N[DD] + N[AA] = 141 + 159 = 300\n",
      "Imin = N[DA] + N[AD] = 17 + 18 = 35\n",
      "Visibility = (Imax - Imin) / (Imax + Imin) = (300 - 35) / (300 + 35) = 0.7910\n",
      "\n",
      "Computational Basis Visibility: 0.8025\n",
      "\n",
      "Diagonal Basis Visibility: 0.7910\n"
     ]
    }
   ],
   "source": [
    "results = calculate_visibility(file_paths)\n",
    "\n",
    "# Access results for computational basis\n",
    "comp_basis = results[\"Computational Basis\"]\n",
    "print(f\"\\nComputational Basis Visibility: {comp_basis['Visibility']:.4f}\")\n",
    "\n",
    "# Access results for diagonal basis\n",
    "diag_basis = results[\"Diagonal Basis\"]\n",
    "print(f\"\\nDiagonal Basis Visibility: {diag_basis['Visibility']:.4f}\")"
   ]
  },
  {
   "cell_type": "markdown",
   "id": "cc6b9718",
   "metadata": {},
   "source": [
    "# Plotting"
   ]
  },
  {
   "cell_type": "code",
   "execution_count": 7,
   "id": "b16cba14",
   "metadata": {},
   "outputs": [],
   "source": [
    "def plot_actual_coincidences(N_values):\n",
    "    # Separate bases into computational and diagonal groups\n",
    "    comp_bases = [\"HH\", \"HV\", \"VV\", \"VH\"]\n",
    "    diag_bases = [\"DD\", \"DA\", \"AA\", \"AD\"]\n",
    "    \n",
    "    missing_bases = [basis for basis in comp_bases + diag_bases if basis not in N_values]\n",
    "    if missing_bases:\n",
    "        raise KeyError(f\"Missing keys in N_values: {missing_bases}\")\n",
    "    \n",
    "    # Extract values for computational and diagonal bases\n",
    "    comp_values = [N_values[basis] for basis in comp_bases]\n",
    "    diag_values = [N_values[basis] for basis in diag_bases]\n",
    "    \n",
    "    # Set the visual style\n",
    "    sns.set_theme(style=\"darkgrid\")\n",
    "\n",
    "    # Plot computational basis\n",
    "    plt.figure(figsize=(12, 6))\n",
    "    plt.subplot(1, 2, 1)\n",
    "    bars_comp = plt.bar(comp_bases, comp_values, color=[\"#3498db\", \"#2ecc71\", \"#f39c12\", \"#e74c3c\"], edgecolor=\"black\", linewidth=1.5)\n",
    "    plt.title(\"Averaged Actual Coincidences of Computational Bases\", fontsize=16, fontweight=\"bold\", color=\"#2c3e50\")\n",
    "    plt.xlabel(\"Computational Bases_Bandpass\", fontsize=14, fontweight=\"bold\")\n",
    "    plt.ylabel(\"Averaged Actual Coincidence\", fontsize=14, fontweight=\"bold\")\n",
    "    plt.grid(axis=\"y\", linestyle=\"--\", alpha=0.7)\n",
    "\n",
    "    # Plot diagonal basis\n",
    "    plt.subplot(1, 2, 2)\n",
    "    bars_diag = plt.bar(diag_bases, diag_values, color=[\"#9b59b6\", \"#1abc9c\", \"#e74c3c\", \"#f1c40f\"], edgecolor=\"black\", linewidth=1.5)\n",
    "    plt.title(\"Averaged Actual Coincidences of Diagonal Bases\", fontsize=16, fontweight=\"bold\", color=\"#2c3e50\")\n",
    "    plt.xlabel(\"Diagonal Basis_Bandpass\", fontsize=14, fontweight=\"bold\")\n",
    "    plt.ylabel(\"Averaged Actual Coincidence\", fontsize=14, fontweight=\"bold\")\n",
    "    plt.grid(axis=\"y\", linestyle=\"--\", alpha=0.7)\n",
    "\n",
    "    # Adjust layout and show the plot\n",
    "    plt.tight_layout()\n",
    "    plt.show()\n"
   ]
  },
  {
   "cell_type": "code",
   "execution_count": 8,
   "id": "e5d99f95",
   "metadata": {
    "scrolled": true
   },
   "outputs": [
    {
     "data": {
      "image/png": "[encoded data removed]",
      "text/plain": [
       "<Figure size 864x432 with 2 Axes>"
      ]
     },
     "metadata": {
      "needs_background": "light"
     },
     "output_type": "display_data"
    }
   ],
   "source": [
    "N_values = results[\"N_Values\"]\n",
    "plot_actual_coincidences(N_values)"
   ]
  },
  {
   "cell_type": "code",
   "execution_count": 12,
   "id": "1ce3f4f3",
   "metadata": {
    "scrolled": true
   },
   "outputs": [
    {
     "name": "stdout",
     "output_type": "stream",
     "text": [
      "\n",
      "============================================================\n",
      "\u001b[1m\u001b[36m                VISIBILITY RESULTS_Bandpass                 \u001b[0m\n",
      "============================================================\n",
      "\u001b[33m\u001b[1m\n",
      "--- COMPUTATIONAL BASIS ---\u001b[0m\n",
      "\u001b[32m\u001b[1mVisibility          : 0.8025\u001b[0m\n",
      "\u001b[2mImax                : 292\u001b[0m\n",
      "\u001b[2mImin                : 32\u001b[0m\n",
      "\n",
      "------------------------------------------------------------\n",
      "\u001b[33m\u001b[1m\n",
      "--- DIAGONAL BASIS ---\u001b[0m\n",
      "\u001b[32m\u001b[1mVisibility          : 0.7910\u001b[0m\n",
      "\u001b[2mImax                : 300\u001b[0m\n",
      "\u001b[2mImin                : 35\u001b[0m\n",
      "============================================================\n"
     ]
    }
   ],
   "source": [
    "from colorama import Fore, Style\n",
    "\n",
    "def print_fancy_results_with_styles(results):\n",
    "    \"\"\"\n",
    "    Print results with emphasis on visibility shown at the top in bold and bright green.\n",
    "    \"\"\"\n",
    "    print(\"\\n\" + \"=\" * 60)\n",
    "    print(Style.BRIGHT + Fore.CYAN + f\"{'VISIBILITY RESULTS_Bandpass':^60}\" + Style.RESET_ALL)\n",
    "    print(\"=\" * 60)\n",
    "    \n",
    "    # Computational Basis\n",
    "    comp_basis = results[\"Computational Basis\"]\n",
    "    print(Fore.YELLOW + Style.BRIGHT + \"\\n--- COMPUTATIONAL BASIS ---\" + Style.RESET_ALL)\n",
    "    print(Fore.GREEN + Style.BRIGHT + f\"{'Visibility':<20}: {comp_basis['Visibility']:.4f}\" + Style.RESET_ALL)\n",
    "    print(Style.DIM + f\"{'Imax':<20}: {comp_basis['Imax']}\" + Style.RESET_ALL)\n",
    "    print(Style.DIM + f\"{'Imin':<20}: {comp_basis['Imin']}\" + Style.RESET_ALL)\n",
    "    \n",
    "    print(\"\\n\" + \"-\" * 60)\n",
    "    \n",
    "    # Diagonal Basis\n",
    "    diag_basis = results[\"Diagonal Basis\"]\n",
    "    print(Fore.YELLOW + Style.BRIGHT + \"\\n--- DIAGONAL BASIS ---\" + Style.RESET_ALL)\n",
    "    print(Fore.GREEN + Style.BRIGHT + f\"{'Visibility':<20}: {diag_basis['Visibility']:.4f}\" + Style.RESET_ALL)\n",
    "    print(Style.DIM + f\"{'Imax':<20}: {diag_basis['Imax']}\" + Style.RESET_ALL)\n",
    "    print(Style.DIM + f\"{'Imin':<20}: {diag_basis['Imin']}\" + Style.RESET_ALL)\n",
    "\n",
    "    print(\"=\" * 60)\n",
    "\n",
    "    # Print results in fancy style\n",
    "print_fancy_results_with_styles(results)\n"
   ]
  },
  {
   "cell_type": "code",
   "execution_count": null,
   "id": "eee0e284",
   "metadata": {},
   "outputs": [],
   "source": []
  }
 ],
 "metadata": {
  "kernelspec": {
   "display_name": "Python 3 (ipykernel)",
   "language": "python",
   "name": "python3"
  },
  "language_info": {
   "codemirror_mode": {
    "name": "ipython",
    "version": 3
   },
   "file_extension": ".py",
   "mimetype": "text/x-python",
   "name": "python",
   "nbconvert_exporter": "python",
   "pygments_lexer": "ipython3",
   "version": "3.8.13"
  }
 },
 "nbformat": 4,
 "nbformat_minor": 5
}
